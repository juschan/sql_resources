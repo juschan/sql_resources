{
 "cells": [
  {
   "cell_type": "markdown",
   "id": "3ccea361",
   "metadata": {},
   "source": [
    "# <span style=\"color:red\">Connect  "
   ]
  },
  {
   "cell_type": "code",
   "execution_count": 23,
   "id": "db8344a8",
   "metadata": {},
   "outputs": [],
   "source": [
    "import sqlite3"
   ]
  },
  {
   "cell_type": "code",
   "execution_count": 24,
   "id": "2428ae4c",
   "metadata": {},
   "outputs": [],
   "source": [
    "sqliteConnection = sqlite3.connect('./college.db')"
   ]
  },
  {
   "cell_type": "code",
   "execution_count": 25,
   "id": "03be5c50",
   "metadata": {},
   "outputs": [],
   "source": [
    "cursor = sqliteConnection.cursor()"
   ]
  },
  {
   "cell_type": "code",
   "execution_count": 26,
   "id": "c3ae9d7d",
   "metadata": {},
   "outputs": [
    {
     "name": "stdout",
     "output_type": "stream",
     "text": [
      "Database created and Successfully Connected to SQLite\n"
     ]
    }
   ],
   "source": [
    "print(\"Database created and Successfully Connected to SQLite\")"
   ]
  },
  {
   "cell_type": "code",
   "execution_count": 22,
   "id": "4cfa4db0",
   "metadata": {},
   "outputs": [],
   "source": [
    "#sqliteConnection.close()"
   ]
  },
  {
   "cell_type": "markdown",
   "id": "b5d80a38",
   "metadata": {},
   "source": [
    "# <span style=\"color:red\">Read  "
   ]
  },
  {
   "cell_type": "code",
   "execution_count": 27,
   "id": "0628dfb0",
   "metadata": {},
   "outputs": [],
   "source": [
    "sqliteQuery = \"\"\"SELECT * FROM student\"\"\""
   ]
  },
  {
   "cell_type": "code",
   "execution_count": 28,
   "id": "1e788cbe",
   "metadata": {},
   "outputs": [],
   "source": [
    "cursor = sqliteConnection.execute(sqliteQuery)"
   ]
  },
  {
   "cell_type": "code",
   "execution_count": 29,
   "id": "818fdcc7",
   "metadata": {},
   "outputs": [
    {
     "name": "stdout",
     "output_type": "stream",
     "text": [
      "<sqlite3.Cursor object at 0x000002D1851DB180>\n"
     ]
    }
   ],
   "source": [
    "print(cursor)"
   ]
  },
  {
   "cell_type": "code",
   "execution_count": 30,
   "id": "cfc14b51",
   "metadata": {},
   "outputs": [
    {
     "name": "stdout",
     "output_type": "stream",
     "text": [
      "(101, 'John', 'Thailand')\n",
      "(201, 'Mary', 'Indonesia')\n",
      "(202, 'Amir', 'Singapore')\n",
      "(203, 'Jane', 'Singapore')\n",
      "(204, 'Ali', 'Malaysia')\n",
      "(205, 'Wong', 'Malaysia')\n",
      "(301, 'Meili', 'Thailand')\n",
      "(302, 'Zelda', 'France')\n",
      "(303, 'Oscar', 'Germany')\n"
     ]
    }
   ],
   "source": [
    "for x in cursor:\n",
    "    print(x)"
   ]
  },
  {
   "cell_type": "markdown",
   "id": "741889ce",
   "metadata": {},
   "source": [
    "# <span style=\"color:red\">Read in order  "
   ]
  },
  {
   "cell_type": "code",
   "execution_count": 38,
   "id": "4625f1e1",
   "metadata": {},
   "outputs": [],
   "source": [
    "sqliteQuery = \"\"\"SELECT * FROM student_subject ORDER BY stud_id\"\"\""
   ]
  },
  {
   "cell_type": "code",
   "execution_count": 39,
   "id": "a4650db9",
   "metadata": {},
   "outputs": [],
   "source": [
    "cursor = sqliteConnection.execute(sqliteQuery)"
   ]
  },
  {
   "cell_type": "code",
   "execution_count": 40,
   "id": "6b7d1dd6",
   "metadata": {},
   "outputs": [
    {
     "name": "stdout",
     "output_type": "stream",
     "text": [
      "(201, 'Math', 46)\n",
      "(201, 'Accounting', 78)\n",
      "(202, 'Math', 67)\n",
      "(202, 'Accounting', 52)\n",
      "(203, 'Art', 97)\n",
      "(203, 'Accounting', 55)\n",
      "(204, 'Art', 64)\n",
      "(204, 'Math', 80)\n",
      "(205, 'Art', 71)\n",
      "(205, 'Accounting', 50)\n"
     ]
    }
   ],
   "source": [
    "for x in cursor:\n",
    "    print(x)"
   ]
  },
  {
   "cell_type": "markdown",
   "id": "eb72c8ec",
   "metadata": {},
   "source": [
    "# <span style=\"color:red\">Add new data and replace existing data  "
   ]
  },
  {
   "cell_type": "code",
   "execution_count": 43,
   "id": "596d3144",
   "metadata": {},
   "outputs": [],
   "source": [
    "sqliteQuery = \"\"\"INSERT OR REPLACE INTO student_subject\n",
    "VALUES (206, 'Philosophy', 10)\n",
    "\"\"\""
   ]
  },
  {
   "cell_type": "code",
   "execution_count": 44,
   "id": "fe7c26ac",
   "metadata": {},
   "outputs": [],
   "source": [
    "cursor = sqliteConnection.execute(sqliteQuery)"
   ]
  },
  {
   "cell_type": "code",
   "execution_count": 45,
   "id": "bf43921c",
   "metadata": {},
   "outputs": [],
   "source": [
    "sqliteConnection.commit()"
   ]
  },
  {
   "cell_type": "markdown",
   "id": "8bea32d8",
   "metadata": {},
   "source": [
    "# <span style=\"color:red\">Read in order  "
   ]
  },
  {
   "cell_type": "code",
   "execution_count": 46,
   "id": "6b1ff7cf",
   "metadata": {},
   "outputs": [],
   "source": [
    "sqliteQuery = \"\"\"SELECT * FROM student_subject ORDER BY stud_id\"\"\""
   ]
  },
  {
   "cell_type": "code",
   "execution_count": 47,
   "id": "0854de9e",
   "metadata": {},
   "outputs": [],
   "source": [
    "cursor = sqliteConnection.execute(sqliteQuery)"
   ]
  },
  {
   "cell_type": "code",
   "execution_count": 48,
   "id": "0ba1a6f7",
   "metadata": {},
   "outputs": [
    {
     "name": "stdout",
     "output_type": "stream",
     "text": [
      "(201, 'Math', 46)\n",
      "(201, 'Accounting', 78)\n",
      "(202, 'Math', 67)\n",
      "(202, 'Accounting', 52)\n",
      "(203, 'Art', 97)\n",
      "(203, 'Accounting', 55)\n",
      "(204, 'Art', 64)\n",
      "(204, 'Math', 80)\n",
      "(205, 'Art', 71)\n",
      "(205, 'Accounting', 50)\n",
      "(206, 'Philosophy', 10)\n"
     ]
    }
   ],
   "source": [
    "for x in cursor:\n",
    "    print(x)"
   ]
  },
  {
   "cell_type": "code",
   "execution_count": null,
   "id": "764cd30f",
   "metadata": {},
   "outputs": [],
   "source": []
  }
 ],
 "metadata": {
  "kernelspec": {
   "display_name": "Python 3 (ipykernel)",
   "language": "python",
   "name": "python3"
  },
  "language_info": {
   "codemirror_mode": {
    "name": "ipython",
    "version": 3
   },
   "file_extension": ".py",
   "mimetype": "text/x-python",
   "name": "python",
   "nbconvert_exporter": "python",
   "pygments_lexer": "ipython3",
   "version": "3.9.13"
  }
 },
 "nbformat": 4,
 "nbformat_minor": 5
}
