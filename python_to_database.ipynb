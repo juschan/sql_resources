{
 "cells": [
  {
   "cell_type": "markdown",
   "id": "3ccea361",
   "metadata": {},
   "source": [
    "# <span style=\"color:red\">Connect  "
   ]
  },
  {
   "cell_type": "code",
   "execution_count": 1,
   "id": "db8344a8",
   "metadata": {},
   "outputs": [],
   "source": [
    "import sqlite3"
   ]
  },
  {
   "cell_type": "code",
   "execution_count": 2,
   "id": "2428ae4c",
   "metadata": {},
   "outputs": [],
   "source": [
    "sqliteConnection = sqlite3.connect('C:/Users/chi_k/Documents/Personal - John/Master Degree/General Assembly/my_da_ds_work/2023_05_13_sql_general_assembly_justin/college.db')"
   ]
  },
  {
   "cell_type": "code",
   "execution_count": 3,
   "id": "03be5c50",
   "metadata": {},
   "outputs": [],
   "source": [
    "cursor = sqliteConnection.cursor()"
   ]
  },
  {
   "cell_type": "code",
   "execution_count": 4,
   "id": "c3ae9d7d",
   "metadata": {},
   "outputs": [
    {
     "name": "stdout",
     "output_type": "stream",
     "text": [
      "Database created and Successfully Connected to SQLite\n"
     ]
    }
   ],
   "source": [
    "print(\"Database created and Successfully Connected to SQLite\")"
   ]
  },
  {
   "cell_type": "markdown",
   "id": "b5d80a38",
   "metadata": {},
   "source": [
    "# <span style=\"color:red\">Read  "
   ]
  },
  {
   "cell_type": "code",
   "execution_count": 5,
   "id": "0628dfb0",
   "metadata": {},
   "outputs": [],
   "source": [
    "sqliteQuery = \"\"\"SELECT * FROM student_result\"\"\""
   ]
  },
  {
   "cell_type": "code",
   "execution_count": 6,
   "id": "1e788cbe",
   "metadata": {},
   "outputs": [],
   "source": [
    "cursor = sqliteConnection.execute(sqliteQuery)"
   ]
  },
  {
   "cell_type": "code",
   "execution_count": 7,
   "id": "818fdcc7",
   "metadata": {},
   "outputs": [
    {
     "name": "stdout",
     "output_type": "stream",
     "text": [
      "<sqlite3.Cursor object at 0x0000018469B532C0>\n"
     ]
    }
   ],
   "source": [
    "print(cursor)"
   ]
  },
  {
   "cell_type": "code",
   "execution_count": 8,
   "id": "cfc14b51",
   "metadata": {},
   "outputs": [
    {
     "name": "stdout",
     "output_type": "stream",
     "text": [
      "('201_Math', 201, 'Math', 46)\n",
      "('201_Accounting', 201, 'Accounting', 78)\n",
      "('202_Accounting', 202, 'Accounting', 52)\n",
      "('203_Art', 203, 'Art', 97)\n",
      "('203_Accounting', 203, 'Accounting', 55)\n",
      "('204_Art', 204, 'Art', 64)\n",
      "('204_Math', 204, 'Math', 80)\n",
      "('205_Art', 205, 'Art', 71)\n",
      "('205_Accounting', 205, 'Accounting', 50)\n",
      "('206_English', 206, 'English', 10)\n",
      "('206_Geography', 206, 'Geography', 100)\n",
      "('202_Math', 202, 'Math', 5)\n"
     ]
    }
   ],
   "source": [
    "for x in cursor:\n",
    "    print(x)"
   ]
  },
  {
   "cell_type": "markdown",
   "id": "741889ce",
   "metadata": {},
   "source": [
    "# <span style=\"color:red\">Read in order  "
   ]
  },
  {
   "cell_type": "code",
   "execution_count": 9,
   "id": "4625f1e1",
   "metadata": {},
   "outputs": [],
   "source": [
    "sqliteQuery = \"\"\"SELECT * FROM student_result ORDER BY primary_key\"\"\""
   ]
  },
  {
   "cell_type": "code",
   "execution_count": 10,
   "id": "a4650db9",
   "metadata": {},
   "outputs": [],
   "source": [
    "cursor = sqliteConnection.execute(sqliteQuery)"
   ]
  },
  {
   "cell_type": "code",
   "execution_count": 11,
   "id": "6b7d1dd6",
   "metadata": {},
   "outputs": [
    {
     "name": "stdout",
     "output_type": "stream",
     "text": [
      "('201_Accounting', 201, 'Accounting', 78)\n",
      "('201_Math', 201, 'Math', 46)\n",
      "('202_Accounting', 202, 'Accounting', 52)\n",
      "('202_Math', 202, 'Math', 5)\n",
      "('203_Accounting', 203, 'Accounting', 55)\n",
      "('203_Art', 203, 'Art', 97)\n",
      "('204_Art', 204, 'Art', 64)\n",
      "('204_Math', 204, 'Math', 80)\n",
      "('205_Accounting', 205, 'Accounting', 50)\n",
      "('205_Art', 205, 'Art', 71)\n",
      "('206_English', 206, 'English', 10)\n",
      "('206_Geography', 206, 'Geography', 100)\n"
     ]
    }
   ],
   "source": [
    "for x in cursor:\n",
    "    print(x)"
   ]
  },
  {
   "cell_type": "markdown",
   "id": "eb72c8ec",
   "metadata": {},
   "source": [
    "# <span style=\"color:red\">Add new data and replace existing data  "
   ]
  },
  {
   "cell_type": "code",
   "execution_count": 12,
   "id": "596d3144",
   "metadata": {},
   "outputs": [],
   "source": [
    "sqliteQuery = \"\"\"INSERT OR REPLACE INTO student_result\n",
    "VALUES ('207_Philosophy',207,'Philosophy',22),\n",
    "('207_GlobalStudies',207,'GlobalStudies',100),\n",
    "('202_Math',202,'Math',50)\"\"\""
   ]
  },
  {
   "cell_type": "code",
   "execution_count": 13,
   "id": "fe7c26ac",
   "metadata": {},
   "outputs": [],
   "source": [
    "cursor = sqliteConnection.execute(sqliteQuery)"
   ]
  },
  {
   "cell_type": "code",
   "execution_count": 14,
   "id": "bf43921c",
   "metadata": {},
   "outputs": [],
   "source": [
    "sqliteConnection.commit()"
   ]
  },
  {
   "cell_type": "markdown",
   "id": "8bea32d8",
   "metadata": {},
   "source": [
    "# <span style=\"color:red\">Read in order  "
   ]
  },
  {
   "cell_type": "code",
   "execution_count": 15,
   "id": "6b1ff7cf",
   "metadata": {},
   "outputs": [],
   "source": [
    "sqliteQuery = \"\"\"SELECT * FROM student_result ORDER BY primary_key\"\"\""
   ]
  },
  {
   "cell_type": "code",
   "execution_count": 16,
   "id": "0854de9e",
   "metadata": {},
   "outputs": [],
   "source": [
    "cursor = sqliteConnection.execute(sqliteQuery)"
   ]
  },
  {
   "cell_type": "code",
   "execution_count": 17,
   "id": "0ba1a6f7",
   "metadata": {},
   "outputs": [
    {
     "name": "stdout",
     "output_type": "stream",
     "text": [
      "('201_Accounting', 201, 'Accounting', 78)\n",
      "('201_Math', 201, 'Math', 46)\n",
      "('202_Accounting', 202, 'Accounting', 52)\n",
      "('202_Math', 202, 'Math', 50)\n",
      "('203_Accounting', 203, 'Accounting', 55)\n",
      "('203_Art', 203, 'Art', 97)\n",
      "('204_Art', 204, 'Art', 64)\n",
      "('204_Math', 204, 'Math', 80)\n",
      "('205_Accounting', 205, 'Accounting', 50)\n",
      "('205_Art', 205, 'Art', 71)\n",
      "('206_English', 206, 'English', 10)\n",
      "('206_Geography', 206, 'Geography', 100)\n",
      "('207_GlobalStudies', 207, 'GlobalStudies', 100)\n",
      "('207_Philosophy', 207, 'Philosophy', 22)\n"
     ]
    }
   ],
   "source": [
    "for x in cursor:\n",
    "    print(x)"
   ]
  },
  {
   "cell_type": "code",
   "execution_count": null,
   "id": "764cd30f",
   "metadata": {},
   "outputs": [],
   "source": []
  }
 ],
 "metadata": {
  "kernelspec": {
   "display_name": "Python 3 (ipykernel)",
   "language": "python",
   "name": "python3"
  },
  "language_info": {
   "codemirror_mode": {
    "name": "ipython",
    "version": 3
   },
   "file_extension": ".py",
   "mimetype": "text/x-python",
   "name": "python",
   "nbconvert_exporter": "python",
   "pygments_lexer": "ipython3",
   "version": "3.9.13"
  }
 },
 "nbformat": 4,
 "nbformat_minor": 5
}
